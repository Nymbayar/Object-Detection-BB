{
 "cells": [
  {
   "cell_type": "code",
   "execution_count": 15,
   "metadata": {},
   "outputs": [],
   "source": [
    "import tensorflow as tf\n",
    "import pandas as pd\n",
    "import os\n",
    "\n",
    "from PIL import Image\n",
    "\n",
    "from src.swin_transformer.model import *\n",
    "from src.swin_transformer.helper import *\n",
    "from src.swin_transformer.patches import *\n",
    "from src.swin_transformer.window_attn import *\n",
    "\n",
    "from src.data_prepare import preprocess_data\n"
   ]
  },
  {
   "cell_type": "markdown",
   "metadata": {},
   "source": [
    "# Data errors"
   ]
  },
  {
   "cell_type": "code",
   "execution_count": 42,
   "metadata": {},
   "outputs": [],
   "source": [
    "annot_df = {'img_name' : [],'classes' : [],'x' : [],'y' : [],'width' : [],'height' : []}\n",
    "sample = {'image' : [],'bbox' : [],'label' : []}\n",
    "empty_list = []\n",
    "for idx,i in tqdm(enumerate(os.listdir('kaggle/train/labels/'))):\n",
    "    ## Empty Labels\n",
    "    try:\n",
    "        tmp_df = pd.read_csv(f'kaggle/train/labels/{i}',header=None)\n",
    "        for j in tmp_df[0].values:\n",
    "            annot_df['img_name'].append(f'kaggle/train/images/{i.split(\".\")[0]}.png')\n",
    "            sample['image'] = Image.open(f'kaggle/train/images/{i.split(\".\")[0]}.png').convert('RGB')\n",
    "            annot_df['classes'].append(j.split()[0])\n",
    "            annot_df['x'].append(j.split()[1])\n",
    "            annot_df['y'].append(j.split()[2])\n",
    "            annot_df['width'].append(j.split()[3])\n",
    "            annot_df['height'].append(j.split()[4])\n",
    "            ###\n",
    "            sample['label'].append(j.split()[0])\n",
    "            sample['bbox'].append(j.split()[1])\n",
    "            sample['bbox'].append(j.split()[2])\n",
    "            sample['bbox'].append(j.split()[3])\n",
    "            sample['bbox'].append(j.split()[4])\n",
    "    except pd.errors.EmptyDataError:\n",
    "        empty_list.append(i)\n",
    "        continue"
   ]
  },
  {
   "cell_type": "code",
   "execution_count": 40,
   "metadata": {},
   "outputs": [
    {
     "data": {
      "text/plain": [
       "['07081.txt',\n",
       " '02528.txt',\n",
       " '04966.txt',\n",
       " '06229.txt',\n",
       " '04285.txt',\n",
       " '03798.txt',\n",
       " '02448.txt']"
      ]
     },
     "execution_count": 40,
     "metadata": {},
     "output_type": "execute_result"
    }
   ],
   "source": [
    "empty_list"
   ]
  },
  {
   "cell_type": "code",
   "execution_count": 29,
   "metadata": {},
   "outputs": [
    {
     "data": {
      "text/plain": [
       "dict_keys(['img_name', 'classes', 'x', 'y', 'width', 'height'])"
      ]
     },
     "execution_count": 29,
     "metadata": {},
     "output_type": "execute_result"
    }
   ],
   "source": [
    "annot_df.keys()"
   ]
  },
  {
   "cell_type": "code",
   "execution_count": 36,
   "metadata": {},
   "outputs": [
    {
     "name": "stdout",
     "output_type": "stream",
     "text": [
      "i\n",
      "c\n",
      "x\n",
      "y\n",
      "w\n",
      "h\n"
     ]
    }
   ],
   "source": [
    "samples = {'image' : [],'bbox' : [],'label' : []}\n",
    "j = []\n",
    "for i in annot_df:\n",
    "    print(i[0])\n",
    "#Image.open(annot_df['img_name'][0]).convert('RGB'))"
   ]
  },
  {
   "cell_type": "code",
   "execution_count": 34,
   "metadata": {},
   "outputs": [
    {
     "data": {
      "text/plain": [
       "'height'"
      ]
     },
     "execution_count": 34,
     "metadata": {},
     "output_type": "execute_result"
    }
   ],
   "source": []
  },
  {
   "cell_type": "code",
   "execution_count": null,
   "metadata": {},
   "outputs": [],
   "source": []
  }
 ],
 "metadata": {
  "interpreter": {
   "hash": "31f2aee4e71d21fbe5cf8b01ff0e069b9275f58929596ceb00d14d90e3e16cd6"
  },
  "kernelspec": {
   "display_name": "Python 3.8.10 64-bit",
   "language": "python",
   "name": "python3"
  },
  "language_info": {
   "codemirror_mode": {
    "name": "ipython",
    "version": 3
   },
   "file_extension": ".py",
   "mimetype": "text/x-python",
   "name": "python",
   "nbconvert_exporter": "python",
   "pygments_lexer": "ipython3",
   "version": "3.8.10"
  },
  "orig_nbformat": 4
 },
 "nbformat": 4,
 "nbformat_minor": 2
}
